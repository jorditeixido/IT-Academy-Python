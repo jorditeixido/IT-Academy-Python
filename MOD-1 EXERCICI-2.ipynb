{
 "cells": [
  {
   "cell_type": "code",
   "execution_count": 7,
   "id": "de6f3a91",
   "metadata": {},
   "outputs": [
    {
     "name": "stdout",
     "output_type": "stream",
     "text": [
      "Introdueix un número natural menor o igual a 10\n",
      "j\n",
      "No has introduit un número, si us plau, intenta-ho de nou\n",
      "\n",
      "Introdueix un número natural menor o igual a 10\n",
      "j\n",
      "No has introduit un número, si us plau, intenta-ho de nou\n",
      "\n",
      "Introdueix un número natural menor o igual a 10\n",
      "90\n",
      "Introdueix un número natural menor o igual a 10\n",
      "7\n",
      "[[64 21 18 99  2  9 25]\n",
      " [85 23 56 33 29 53  4]\n",
      " [ 2 87  9 49  4 24 28]\n",
      " [84  8 61 98 22 67 38]\n",
      " [75 78 63 58 89 32 39]\n",
      " [54 81 87 77 15 98 94]\n",
      " [79 42 62 12 52 72 66]]\n"
     ]
    }
   ],
   "source": [
    "\"\"\"\n",
    "MODUL 1 EXERCICI 2\n",
    "Crea una funció que et generi un quadrat NxN de nombres aleatoris entre el 0 i el 100.\n",
    "\"\"\"\n",
    "\n",
    "import numpy as np\n",
    "from numpy import random\n",
    "\n",
    "###############\n",
    "###CONSTANTS###\n",
    "###############\n",
    "\n",
    "NMINIM = 1\n",
    "NMAXIM = 10\n",
    "MINIM = 0\n",
    "MAXIM = 100\n",
    "AVIS = \"Introdueix un número natural menor o igual a \" + str(NMAXIM) + \"\\n\"\n",
    "ERROR1 = \"No has introduit un número, si us plau, intenta-ho de nou\\n\"\n",
    "ERROR2 = \"Ha de ser un valor entre \"+str(NMINIM + 1)+\" i \"+str(NMAXIM)+\", tos dos inclosos\\n\"\n",
    "ERROR3 = \"matriu d'una sola dimensió amb n^2 números aleatoris entre \"+str(MINIM)+\" i \"+str(MAXIM)\n",
    "\n",
    "##############\n",
    "###PROGRAMA###\n",
    "##############\n",
    "\n",
    "numeroCorrecte = False\n",
    "while not numeroCorrecte:\n",
    "    #el valor del input el converteixo en int, però això fallarà si valor introduit son lletres\n",
    "    #és per això que estableixo un try-catch que capturi l'error, doni un missatge d'error i torni a demanar el número\n",
    "    try:\n",
    "        n = int(input(AVIS))\n",
    "        if n>NMINIM and n<NMAXIM:\n",
    "            numeroCorrecte = True\n",
    "    except ValueError:\n",
    "        print(ERROR1)\n",
    "        \n",
    "rang = MAXIM - MINIM          \n",
    "matriu = MINIM + (random.randint(rang, size = n**2))\n",
    "\n",
    "#canvio ara la forma de la matriu a 2-D \"n x n\"\n",
    "matriu = matriu.reshape(n, n)\n",
    "\n",
    "print (matriu)"
   ]
  }
 ],
 "metadata": {
  "kernelspec": {
   "display_name": "Python 3 (ipykernel)",
   "language": "python",
   "name": "python3"
  },
  "language_info": {
   "codemirror_mode": {
    "name": "ipython",
    "version": 3
   },
   "file_extension": ".py",
   "mimetype": "text/x-python",
   "name": "python",
   "nbconvert_exporter": "python",
   "pygments_lexer": "ipython3",
   "version": "3.9.7"
  }
 },
 "nbformat": 4,
 "nbformat_minor": 5
}
